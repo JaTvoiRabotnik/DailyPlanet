{
 "cells": [
  {
   "cell_type": "markdown",
   "metadata": {},
   "source": [
    "In this notebook we create draft code for treating the data as supplied in raw form by the \"Dados Abertos\" initiative:\n",
    "http://dados.prefeitura.sp.gov.br/dataset/diario-oficial-da-cidade-de-sao-paulo\n",
    "\n",
    "We need to unzip all files, and then add the date and data type information to each text file.\n",
    "That's because when we run a clustering algorithm, having the data type will be useful. Then we can take each file individually, without caring which folder it came from. For that reason we also need the date on the text file itself.\n",
    "It's actually very surprising that the data provided in raw form does not already give us that information intrinsically..."
   ]
  },
  {
   "cell_type": "code",
   "execution_count": 1,
   "metadata": {
    "collapsed": true
   },
   "outputs": [],
   "source": [
    "import zipfile"
   ]
  },
  {
   "cell_type": "code",
   "execution_count": 2,
   "metadata": {
    "collapsed": false
   },
   "outputs": [],
   "source": [
    "# Define a couple of helper functions for formatting paths\n",
    "def format_file(path, folder, file):\n",
    "  return path + \"/\" + folder + \"/\" + file\n",
    "\n",
    "def format_folder(path, folder):\n",
    "  return path + \"/\" + folder\n",
    "\n",
    "# Little helper function to get subdirectories\n",
    "import os\n",
    "def get_immediate_subdirectories(a_dir):\n",
    "    return [name for name in os.listdir(a_dir)\n",
    "            if os.path.isdir(os.path.join(a_dir, name))]"
   ]
  },
  {
   "cell_type": "code",
   "execution_count": 3,
   "metadata": {
    "collapsed": false
   },
   "outputs": [
    {
     "ename": "IOError",
     "evalue": "[Errno 21] Is a directory: '../raw/processed_old/1706DOM.zip'",
     "output_type": "error",
     "traceback": [
      "\u001b[0;31m\u001b[0m",
      "\u001b[0;31mIOError\u001b[0mTraceback (most recent call last)",
      "\u001b[0;32m<ipython-input-3-ae9bb4039e3a>\u001b[0m in \u001b[0;36m<module>\u001b[0;34m()\u001b[0m\n\u001b[1;32m      7\u001b[0m   \u001b[0mfiles\u001b[0m \u001b[0;34m=\u001b[0m \u001b[0mos\u001b[0m\u001b[0;34m.\u001b[0m\u001b[0mlistdir\u001b[0m\u001b[0;34m(\u001b[0m\u001b[0mformat_folder\u001b[0m\u001b[0;34m(\u001b[0m\u001b[0mrelative_root_path\u001b[0m\u001b[0;34m,\u001b[0m \u001b[0mfolder\u001b[0m\u001b[0;34m)\u001b[0m\u001b[0;34m)\u001b[0m\u001b[0;34m\u001b[0m\u001b[0m\n\u001b[1;32m      8\u001b[0m   \u001b[0;32mfor\u001b[0m \u001b[0mfile\u001b[0m \u001b[0;32min\u001b[0m \u001b[0mfiles\u001b[0m\u001b[0;34m:\u001b[0m\u001b[0;34m\u001b[0m\u001b[0m\n\u001b[0;32m----> 9\u001b[0;31m     \u001b[0;32mwith\u001b[0m \u001b[0mzipfile\u001b[0m\u001b[0;34m.\u001b[0m\u001b[0mZipFile\u001b[0m\u001b[0;34m(\u001b[0m\u001b[0mformat_file\u001b[0m\u001b[0;34m(\u001b[0m\u001b[0mrelative_root_path\u001b[0m\u001b[0;34m,\u001b[0m \u001b[0mfolder\u001b[0m\u001b[0;34m,\u001b[0m \u001b[0mfile\u001b[0m\u001b[0;34m)\u001b[0m\u001b[0;34m,\u001b[0m\u001b[0;34m\"r\"\u001b[0m\u001b[0;34m)\u001b[0m \u001b[0;32mas\u001b[0m \u001b[0mzip_ref\u001b[0m\u001b[0;34m:\u001b[0m\u001b[0;34m\u001b[0m\u001b[0m\n\u001b[0m\u001b[1;32m     10\u001b[0m       \u001b[0mzip_ref\u001b[0m\u001b[0;34m.\u001b[0m\u001b[0mextractall\u001b[0m\u001b[0;34m(\u001b[0m\u001b[0mformat_folder\u001b[0m\u001b[0;34m(\u001b[0m\u001b[0mprocessed_data_path\u001b[0m\u001b[0;34m,\u001b[0m\u001b[0mfile\u001b[0m\u001b[0;34m)\u001b[0m\u001b[0;34m)\u001b[0m\u001b[0;34m\u001b[0m\u001b[0m\n\u001b[1;32m     11\u001b[0m       \u001b[0mzip_ref\u001b[0m\u001b[0;34m.\u001b[0m\u001b[0mclose\u001b[0m\u001b[0;34m(\u001b[0m\u001b[0;34m)\u001b[0m\u001b[0;34m\u001b[0m\u001b[0m\n",
      "\u001b[0;32m/usr/lib/python2.7/zipfile.pyc\u001b[0m in \u001b[0;36m__init__\u001b[0;34m(self, file, mode, compression, allowZip64)\u001b[0m\n\u001b[1;32m    754\u001b[0m             \u001b[0mmodeDict\u001b[0m \u001b[0;34m=\u001b[0m \u001b[0;34m{\u001b[0m\u001b[0;34m'r'\u001b[0m \u001b[0;34m:\u001b[0m \u001b[0;34m'rb'\u001b[0m\u001b[0;34m,\u001b[0m \u001b[0;34m'w'\u001b[0m\u001b[0;34m:\u001b[0m \u001b[0;34m'wb'\u001b[0m\u001b[0;34m,\u001b[0m \u001b[0;34m'a'\u001b[0m \u001b[0;34m:\u001b[0m \u001b[0;34m'r+b'\u001b[0m\u001b[0;34m}\u001b[0m\u001b[0;34m\u001b[0m\u001b[0m\n\u001b[1;32m    755\u001b[0m             \u001b[0;32mtry\u001b[0m\u001b[0;34m:\u001b[0m\u001b[0;34m\u001b[0m\u001b[0m\n\u001b[0;32m--> 756\u001b[0;31m                 \u001b[0mself\u001b[0m\u001b[0;34m.\u001b[0m\u001b[0mfp\u001b[0m \u001b[0;34m=\u001b[0m \u001b[0mopen\u001b[0m\u001b[0;34m(\u001b[0m\u001b[0mfile\u001b[0m\u001b[0;34m,\u001b[0m \u001b[0mmodeDict\u001b[0m\u001b[0;34m[\u001b[0m\u001b[0mmode\u001b[0m\u001b[0;34m]\u001b[0m\u001b[0;34m)\u001b[0m\u001b[0;34m\u001b[0m\u001b[0m\n\u001b[0m\u001b[1;32m    757\u001b[0m             \u001b[0;32mexcept\u001b[0m \u001b[0mIOError\u001b[0m\u001b[0;34m:\u001b[0m\u001b[0;34m\u001b[0m\u001b[0m\n\u001b[1;32m    758\u001b[0m                 \u001b[0;32mif\u001b[0m \u001b[0mmode\u001b[0m \u001b[0;34m==\u001b[0m \u001b[0;34m'a'\u001b[0m\u001b[0;34m:\u001b[0m\u001b[0;34m\u001b[0m\u001b[0m\n",
      "\u001b[0;31mIOError\u001b[0m: [Errno 21] Is a directory: '../raw/processed_old/1706DOM.zip'"
     ]
    }
   ],
   "source": [
    "# All the data to be processed is kept here, in zipped format\n",
    "relative_root_path = \"../raw\"\n",
    "processed_data_path = \"../raw/processed\"\n",
    "\n",
    "folders = get_immediate_subdirectories(relative_root_path)\n",
    "for folder in folders:\n",
    "  files = os.listdir(format_folder(relative_root_path, folder))\n",
    "  for file in files:\n",
    "    with zipfile.ZipFile(format_file(relative_root_path, folder, file),\"r\") as zip_ref:\n",
    "      zip_ref.extractall(format_folder(processed_data_path,file))\n",
    "      zip_ref.close()"
   ]
  },
  {
   "cell_type": "markdown",
   "metadata": {},
   "source": [
    "Now that all the files have been extracted, we need put them in a structure.\n",
    "The first thing we need to do is get the date and type (licitacao or publicacao) information and add it to each document."
   ]
  },
  {
   "cell_type": "code",
   "execution_count": 4,
   "metadata": {
    "collapsed": true
   },
   "outputs": [],
   "source": [
    "# First let's define a couple of helper functions to pre-pend data on a text file:\n",
    "def line_prepender(filename, line):\n",
    "    with open(filename, 'r+') as f:\n",
    "        content = f.read()\n",
    "        f.seek(0, 0)\n",
    "        f.write(line.rstrip('\\r\\n') + '\\n' + content)\n",
    "        \n",
    "def format_line(date, data_type):\n",
    "  return date + \"06 \" + data_type + \" \""
   ]
  },
  {
   "cell_type": "code",
   "execution_count": 5,
   "metadata": {
    "collapsed": false
   },
   "outputs": [],
   "source": [
    "dates = get_immediate_subdirectories(processed_data_path)\n",
    "for date_uf in dates:\n",
    "  # the date is the 4 first digits of the name of the top most folder in each structure\n",
    "  date = date_uf[:4]\n",
    "  path_to_date = format_folder(processed_data_path, date_uf)\n",
    "  second_level = get_immediate_subdirectories(path_to_date)\n",
    "  for directoryL2 in second_level:\n",
    "    # Sadly the data structure is very dirty, with the order of folders being swapped around in some cases.\n",
    "    # So we need to do two loops.\n",
    "    new_date = format_folder(path_to_date, directoryL2)\n",
    "    if directoryL2 == \"Licitacao\" or directoryL2 == \"Publicacao\":\n",
    "      data_type = directoryL2\n",
    "      for filename in os.listdir(new_date):\n",
    "        if filename.endswith(\".txt\") of filename.endswith(\".TXT\"):\n",
    "          line = format_line(date, data_type)\n",
    "          line_prepender(format_folder(new_date,filename),line)\n",
    "    else:\n",
    "      third_level = get_immediate_subdirectories(new_date)\n",
    "      for directoryL3 in third_level:\n",
    "        if directoryL3 == \"Licitacao\" or directoryL3 == \"Publicacao\":\n",
    "          data_type = directoryL3\n",
    "          for filename in os.listdir(format_folder(new_date, directoryL3)):\n",
    "            if filename.endswith(\".txt\"): \n",
    "              # prepend each file with the date (adding year) and the data type (procuracao or licitacao)\n",
    "              line = format_line(date, data_type)\n",
    "              line_prepender(format_folder(format_folder(new_date, directoryL3),filename),line)\n",
    "  "
   ]
  },
  {
   "cell_type": "code",
   "execution_count": null,
   "metadata": {
    "collapsed": true
   },
   "outputs": [],
   "source": []
  }
 ],
 "metadata": {
  "kernelspec": {
   "display_name": "Python 2",
   "language": "python",
   "name": "python2"
  },
  "language_info": {
   "codemirror_mode": {
    "name": "ipython",
    "version": 2
   },
   "file_extension": ".py",
   "mimetype": "text/x-python",
   "name": "python",
   "nbconvert_exporter": "python",
   "pygments_lexer": "ipython2",
   "version": "2.7.9"
  }
 },
 "nbformat": 4,
 "nbformat_minor": 1
}
